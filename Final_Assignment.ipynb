{
  "metadata": {
    "kernelspec": {
      "name": "python",
      "display_name": "Python (Pyodide)",
      "language": "python"
    },
    "language_info": {
      "codemirror_mode": {
        "name": "python",
        "version": 3
      },
      "file_extension": ".py",
      "mimetype": "text/x-python",
      "name": "python",
      "nbconvert_exporter": "python",
      "pygments_lexer": "ipython3",
      "version": "3.8"
    }
  },
  "nbformat_minor": 5,
  "nbformat": 4,
  "cells": [
    {
      "id": "10d69f27-589c-49ac-840c-03eabfde9b12",
      "cell_type": "code",
      "source": "# Data Science Tools and Ecosystem",
      "metadata": {
        "trusted": true
      },
      "outputs": [],
      "execution_count": null
    },
    {
      "id": "41ce19fe-78d2-4bf3-bfe0-582cad446510",
      "cell_type": "code",
      "source": "In this notebook, we will summarize some of the key tools, libraries, and languages used by data scientists. We will also perform simple arithmetic operations using Python.",
      "metadata": {
        "trusted": true
      },
      "outputs": [],
      "execution_count": null
    },
    {
      "id": "376fecd4-1c5a-4fd4-b49b-09e673aebd5d",
      "cell_type": "code",
      "source": "### Data Science Languages\nSome of the popular languages used by Data Scientists include:\n1. Python  \n2. R  \n3. SQL  \n4. Julia  \n5. Scala\n",
      "metadata": {
        "trusted": true
      },
      "outputs": [],
      "execution_count": null
    },
    {
      "id": "af4ad933-27c6-4117-b5c9-5fc47ef11e3d",
      "cell_type": "code",
      "source": "### Data Science Libraries\nSome of the commonly used libraries in Data Science include:\n1. Pandas  \n2. NumPy  \n3. Matplotlib  \n4. Scikit-learn  \n5. TensorFlow\n",
      "metadata": {
        "trusted": true
      },
      "outputs": [],
      "execution_count": null
    },
    {
      "id": "9128d5eb-fee6-4c6e-a7f2-5ff61b8f127e",
      "cell_type": "code",
      "source": "### Data Science Tools\n| Data Science Tools | Category |\n|---------------------|-----------|\n| Jupyter Notebook    | Interactive Computing |\n| RStudio             | Statistical Computing |\n| Apache Spark        | Big Data Processing |\n| TensorFlow          | Machine Learning |\n",
      "metadata": {
        "trusted": true
      },
      "outputs": [],
      "execution_count": null
    },
    {
      "id": "b5bc59f0-b777-49b0-893f-96feef08bfd5",
      "cell_type": "code",
      "source": "### Arithmetic Expression Examples\nBelow are some examples of basic arithmetic operations in Python.\n",
      "metadata": {
        "trusted": true
      },
      "outputs": [],
      "execution_count": null
    },
    {
      "id": "4ab625be-dac1-40ee-8fd8-4f994e42bd3c",
      "cell_type": "code",
      "source": "# This expression multiplies 3 and 4, then adds 5\n(3 * 4) + 5\n",
      "metadata": {
        "trusted": true
      },
      "outputs": [
        {
          "execution_count": 2,
          "output_type": "execute_result",
          "data": {
            "text/plain": "17"
          },
          "metadata": {}
        }
      ],
      "execution_count": 2
    },
    {
      "id": "c3be54ea-5f6d-4ae5-8757-87c326c4cc9f",
      "cell_type": "code",
      "source": "# This will convert 200 minutes to hours\nminutes = 200\nhours = minutes / 60\nhours\n",
      "metadata": {
        "trusted": true
      },
      "outputs": [
        {
          "execution_count": 3,
          "output_type": "execute_result",
          "data": {
            "text/plain": "3.3333333333333335"
          },
          "metadata": {}
        }
      ],
      "execution_count": 3
    },
    {
      "id": "15e89a42-886c-456a-a7ec-554dbc10b71d",
      "cell_type": "code",
      "source": "### Objectives\nIn this notebook, we will:\n- List popular languages used by data scientists  \n- List common libraries used in data science  \n- Create a table of data science tools  \n- Perform simple arithmetic operations using Python\n",
      "metadata": {
        "trusted": true
      },
      "outputs": [],
      "execution_count": null
    },
    {
      "id": "332a2d61-ad74-4a4e-9067-7ea706162d8c",
      "cell_type": "code",
      "source": "## Author\n**Saif Ali**\n",
      "metadata": {
        "trusted": true
      },
      "outputs": [],
      "execution_count": null
    }
  ]
}